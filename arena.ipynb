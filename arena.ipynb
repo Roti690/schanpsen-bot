{
 "cells": [
  {
   "cell_type": "code",
   "execution_count": 1,
   "metadata": {},
   "outputs": [
    {
     "name": "stdout",
     "output_type": "stream",
     "text": [
      "Game 1000 completed.Game 3500 completed.\n",
      "\n",
      "Game 2000 completed.Game 4500 completed.\n",
      "\n",
      "Game 500 completed.Game 3000 completed.\n",
      "\n",
      "Game 1500 completed.\n",
      "Game 4000 completed.\n",
      "Game 5000 completed.\n",
      "Game 2500 completed.\n",
      "Game 6000 completed.\n",
      "Game 8500 completed.\n",
      "Game 7000 completed.\n",
      "Game 9500 completed.\n",
      "Game 5500 completed.\n",
      "Game 8000 completed.\n",
      "Game 6500 completed.\n",
      "Game 9000 completed.\n",
      "Game 7500 completed.\n",
      "Game 10000 completed.\n",
      "Game 11000 completed.\n",
      "Game 13500 completed.\n",
      "Game 12000 completed.\n",
      "Game 10500 completed.Game 14500 completed.\n",
      "\n",
      "Game 13000 completed.\n",
      "Game 11500 completed.\n",
      "Game 14000 completed.\n",
      "Game 12500 completed.\n",
      "Game 16000 completed.\n",
      "Game 15000 completed.\n",
      "Game 18500 completed.\n",
      "Game 17000 completed.\n",
      "Game 19500 completed.\n",
      "Game 15500 completed.\n",
      "Game 18000 completed.\n",
      "Game 16500 completed.\n",
      "Game 19000 completed.\n",
      "Game 17500 completed.\n",
      "Game 20000 completed.\n"
     ]
    }
   ],
   "source": [
    "import sys\n",
    "sys.path.append(\"./models\")\n",
    "import random\n",
    "from schnapsen.bots import RandBot\n",
    "from schnapsen.bots import RdeepBot\n",
    "from ML_bot import MLPlayingBot\n",
    "from Deepbot import DeepLearningBot\n",
    "from schnapsen.bots import BullyBot\n",
    "import pathlib\n",
    "\n",
    "from ML_bot import create_replay_memory_dataset\n",
    "\n",
    "model_dir = \"ML_models\"\n",
    "model_name = \"simple_model\"\n",
    "rng = random.Random(42)\n",
    "model_location = pathlib.Path(model_dir) / model_name\n",
    "\n",
    "bot1 = RandBot(rng)\n",
    "bot2 = RdeepBot(num_samples=20, depth=5, rand=rng)\n",
    "bot3 = MLPlayingBot(model_location)\n",
    "bot4 = BullyBot(rng)\n",
    "\n",
    "create_replay_memory_dataset(bot1=bot1, bot2=bot3, num_of_games = 20000, parallel=True)\n"
   ]
  },
  {
   "cell_type": "code",
   "execution_count": null,
   "metadata": {},
   "outputs": [],
   "source": [
    "import sys\n",
    "sys.path.append(\"./models\")\n",
    "\n",
    "from ML_bot import train_model\n",
    "\n",
    "train_model(\"NN\")"
   ]
  },
  {
   "cell_type": "code",
   "execution_count": null,
   "metadata": {},
   "outputs": [],
   "source": [
    "import pathlib\n",
    "import random\n",
    "\n",
    "from schnapsen.game import SchnapsenGamePlayEngine\n",
    "from schnapsen.bots import RandBot\n",
    "\n",
    "from ML_bot import MLPlayingBot\n",
    "\n",
    "engine = SchnapsenGamePlayEngine()\n",
    "model_dir = \"ML_models\"\n",
    "model_name = \"simple_model\"\n",
    "model_location = pathlib.Path(model_dir) / model_name\n",
    "\n",
    "bot1 = MLPlayingBot(model_location, name=\"MLBot\")\n",
    "bot2 = RandBot(rng, \"RandBot\")\n",
    "\n",
    "winner_id, game_points, score = engine.play_game(bot1, bot2, random.Random(0))\n",
    "print(f\"Game ended. Winner is {winner_id._Bot__name} with {game_points} points and {score}\")"
   ]
  },
  {
   "cell_type": "code",
   "execution_count": 3,
   "metadata": {},
   "outputs": [
    {
     "name": "stdout",
     "output_type": "stream",
     "text": [
      "Current progress: game 0\n",
      "DLBot: 311\n",
      "Randy: 548\n",
      "Rdeep: 641\n"
     ]
    }
   ],
   "source": [
    "import sys\n",
    "sys.path.append(\"./models\")\n",
    "from ML_bot import MLPlayingBot\n",
    "from schnapsen.bots import RdeepBot\n",
    "from schnapsen.bots import RandBot\n",
    "from Deepbot import DeepLearningBot\n",
    "from schnapsen.game import SchnapsenGamePlayEngine\n",
    "import pathlib\n",
    "import random\n",
    "\n",
    "\n",
    "engine = SchnapsenGamePlayEngine()\n",
    "model_dir = \"ML_models\"\n",
    "model_name = \"simple_model\"\n",
    "model_location = pathlib.Path(model_dir) / model_name\n",
    "\n",
    "model_path = \"./models/model_20250112_010939_epochs50_batch32_lr0.001.pt\"\n",
    "\n",
    "rng = random.Random(42)\n",
    "\n",
    "bot1 = MLPlayingBot(model_location, name=\"MLBot\")\n",
    "bot2 = RandBot(rng, \"RandBot\")\n",
    "bot3 = RdeepBot(num_samples=5, depth=2, rand=rng, name=\"RdeepBot\")\n",
    "bot4 = DeepLearningBot(model_path=model_path, input_size=173, hidden_size=64, name=\"DLbot\")\n",
    "\n",
    "def round_robin_tournament():\n",
    "    wins_MLBot = 0\n",
    "    wins_RDeep = 0\n",
    "    wins_Randy = 0\n",
    "    for i in range (500):\n",
    "\n",
    "        if i % 500 == 0:\n",
    "            print(f\"Current progress: game {i}\")\n",
    "\n",
    "        winner_id, game_points, score = engine.play_game(bot1, bot4, random.Random(i))\n",
    "\n",
    "        if winner_id._Bot__name == \"DLbot\":\n",
    "            wins_MLBot +=1\n",
    "        elif winner_id._Bot__name == \"RdeepBot\":\n",
    "            wins_RDeep +=1\n",
    "        else:\n",
    "            wins_Randy +=1\n",
    "\n",
    "        winner_id2, game_points2, score2 = engine.play_game(bot1, bot3, random.Random(i))\n",
    "\n",
    "        if winner_id2._Bot__name == \"DLbot\":\n",
    "            wins_MLBot +=1\n",
    "        elif winner_id2._Bot__name == \"RdeepBot\":\n",
    "            wins_RDeep +=1\n",
    "        else:\n",
    "            wins_Randy +=1\n",
    "\n",
    "        winner_id3, game_points3, score3 = engine.play_game(bot4, bot3, random.Random(i))\n",
    "\n",
    "        if winner_id3._Bot__name == \"DLbot\":\n",
    "            wins_MLBot +=1\n",
    "        elif winner_id3._Bot__name == \"RdeepBot\":\n",
    "            wins_RDeep +=1\n",
    "        else:\n",
    "            wins_Randy +=1\n",
    "\n",
    "\n",
    "\n",
    "    print (f\"DLBot: {wins_MLBot}\")\n",
    "    print (f\"Randy: {wins_Randy}\")\n",
    "    print (f\"Rdeep: {wins_RDeep}\")\n",
    "\n",
    "round_robin_tournament()"
   ]
  },
  {
   "cell_type": "code",
   "execution_count": 1,
   "metadata": {},
   "outputs": [
    {
     "name": "stdout",
     "output_type": "stream",
     "text": [
      "Training on: cuda\n",
      "Starting training...\n",
      "Epoch 1/50, Loss: 0.6035\n"
     ]
    },
    {
     "ename": "KeyboardInterrupt",
     "evalue": "",
     "output_type": "error",
     "traceback": [
      "\u001b[0;31m---------------------------------------------------------------------------\u001b[0m",
      "\u001b[0;31mKeyboardInterrupt\u001b[0m                         Traceback (most recent call last)",
      "Cell \u001b[0;32mIn[1], line 11\u001b[0m\n\u001b[1;32m      9\u001b[0m input_dim \u001b[38;5;241m=\u001b[39m \u001b[38;5;241m173\u001b[39m\n\u001b[1;32m     10\u001b[0m hidden_dim \u001b[38;5;241m=\u001b[39m \u001b[38;5;241m64\u001b[39m\n\u001b[0;32m---> 11\u001b[0m \u001b[43mtrain_DL_model\u001b[49m\u001b[43m(\u001b[49m\u001b[43mdata_file\u001b[49m\u001b[43m,\u001b[49m\u001b[43m \u001b[49m\u001b[43moutput_model_path\u001b[49m\u001b[43m,\u001b[49m\u001b[43m \u001b[49m\u001b[43minput_dim\u001b[49m\u001b[43m,\u001b[49m\u001b[43m \u001b[49m\u001b[43mhidden_dim\u001b[49m\u001b[43m)\u001b[49m\n",
      "File \u001b[0;32m~/workspace/uni_projects/cardbot/models/Deepbot.py:363\u001b[0m, in \u001b[0;36mtrain_DL_model\u001b[0;34m(data_path, model_path, input_size, hidden_size, epochs, batch_size, lr)\u001b[0m\n\u001b[1;32m    360\u001b[0m model\u001b[38;5;241m.\u001b[39mtrain()\n\u001b[1;32m    361\u001b[0m train_loss \u001b[38;5;241m=\u001b[39m \u001b[38;5;241m0.0\u001b[39m\n\u001b[0;32m--> 363\u001b[0m \u001b[43m\u001b[49m\u001b[38;5;28;43;01mfor\u001b[39;49;00m\u001b[43m \u001b[49m\u001b[43mchunk_features\u001b[49m\u001b[43m,\u001b[49m\u001b[43m \u001b[49m\u001b[43mchunk_labels\u001b[49m\u001b[43m \u001b[49m\u001b[38;5;129;43;01min\u001b[39;49;00m\u001b[43m \u001b[49m\u001b[43mtrain_loader\u001b[49m\u001b[43m:\u001b[49m\n\u001b[1;32m    364\u001b[0m \u001b[43m    \u001b[49m\u001b[38;5;66;43;03m# Process chunks as batches\u001b[39;49;00m\n\u001b[1;32m    365\u001b[0m \u001b[43m    \u001b[49m\u001b[38;5;28;43;01mfor\u001b[39;49;00m\u001b[43m \u001b[49m\u001b[43mbatch_start\u001b[49m\u001b[43m \u001b[49m\u001b[38;5;129;43;01min\u001b[39;49;00m\u001b[43m \u001b[49m\u001b[38;5;28;43mrange\u001b[39;49m\u001b[43m(\u001b[49m\u001b[38;5;241;43m0\u001b[39;49m\u001b[43m,\u001b[49m\u001b[43m \u001b[49m\u001b[38;5;28;43mlen\u001b[39;49m\u001b[43m(\u001b[49m\u001b[43mchunk_features\u001b[49m\u001b[43m)\u001b[49m\u001b[43m,\u001b[49m\u001b[43m \u001b[49m\u001b[43mbatch_size\u001b[49m\u001b[43m)\u001b[49m\u001b[43m:\u001b[49m\n\u001b[1;32m    366\u001b[0m \u001b[43m        \u001b[49m\u001b[43mbatch_features\u001b[49m\u001b[43m \u001b[49m\u001b[38;5;241;43m=\u001b[39;49m\u001b[43m \u001b[49m\u001b[43mchunk_features\u001b[49m\u001b[43m[\u001b[49m\u001b[43mbatch_start\u001b[49m\u001b[43m:\u001b[49m\u001b[43mbatch_start\u001b[49m\u001b[43m \u001b[49m\u001b[38;5;241;43m+\u001b[39;49m\u001b[43m \u001b[49m\u001b[43mbatch_size\u001b[49m\u001b[43m]\u001b[49m\u001b[38;5;241;43m.\u001b[39;49m\u001b[43mto\u001b[49m\u001b[43m(\u001b[49m\u001b[43mdevice\u001b[49m\u001b[43m)\u001b[49m\n",
      "File \u001b[0;32m~/workspace/uni_projects/cardbot/venv/lib/python3.12/site-packages/torch/utils/data/dataloader.py:701\u001b[0m, in \u001b[0;36m_BaseDataLoaderIter.__next__\u001b[0;34m(self)\u001b[0m\n\u001b[1;32m    698\u001b[0m \u001b[38;5;28;01mif\u001b[39;00m \u001b[38;5;28mself\u001b[39m\u001b[38;5;241m.\u001b[39m_sampler_iter \u001b[38;5;129;01mis\u001b[39;00m \u001b[38;5;28;01mNone\u001b[39;00m:\n\u001b[1;32m    699\u001b[0m     \u001b[38;5;66;03m# TODO(https://github.com/pytorch/pytorch/issues/76750)\u001b[39;00m\n\u001b[1;32m    700\u001b[0m     \u001b[38;5;28mself\u001b[39m\u001b[38;5;241m.\u001b[39m_reset()  \u001b[38;5;66;03m# type: ignore[call-arg]\u001b[39;00m\n\u001b[0;32m--> 701\u001b[0m data \u001b[38;5;241m=\u001b[39m \u001b[38;5;28;43mself\u001b[39;49m\u001b[38;5;241;43m.\u001b[39;49m\u001b[43m_next_data\u001b[49m\u001b[43m(\u001b[49m\u001b[43m)\u001b[49m\n\u001b[1;32m    702\u001b[0m \u001b[38;5;28mself\u001b[39m\u001b[38;5;241m.\u001b[39m_num_yielded \u001b[38;5;241m+\u001b[39m\u001b[38;5;241m=\u001b[39m \u001b[38;5;241m1\u001b[39m\n\u001b[1;32m    703\u001b[0m \u001b[38;5;28;01mif\u001b[39;00m (\n\u001b[1;32m    704\u001b[0m     \u001b[38;5;28mself\u001b[39m\u001b[38;5;241m.\u001b[39m_dataset_kind \u001b[38;5;241m==\u001b[39m _DatasetKind\u001b[38;5;241m.\u001b[39mIterable\n\u001b[1;32m    705\u001b[0m     \u001b[38;5;129;01mand\u001b[39;00m \u001b[38;5;28mself\u001b[39m\u001b[38;5;241m.\u001b[39m_IterableDataset_len_called \u001b[38;5;129;01mis\u001b[39;00m \u001b[38;5;129;01mnot\u001b[39;00m \u001b[38;5;28;01mNone\u001b[39;00m\n\u001b[1;32m    706\u001b[0m     \u001b[38;5;129;01mand\u001b[39;00m \u001b[38;5;28mself\u001b[39m\u001b[38;5;241m.\u001b[39m_num_yielded \u001b[38;5;241m>\u001b[39m \u001b[38;5;28mself\u001b[39m\u001b[38;5;241m.\u001b[39m_IterableDataset_len_called\n\u001b[1;32m    707\u001b[0m ):\n",
      "File \u001b[0;32m~/workspace/uni_projects/cardbot/venv/lib/python3.12/site-packages/torch/utils/data/dataloader.py:757\u001b[0m, in \u001b[0;36m_SingleProcessDataLoaderIter._next_data\u001b[0;34m(self)\u001b[0m\n\u001b[1;32m    755\u001b[0m \u001b[38;5;28;01mdef\u001b[39;00m\u001b[38;5;250m \u001b[39m\u001b[38;5;21m_next_data\u001b[39m(\u001b[38;5;28mself\u001b[39m):\n\u001b[1;32m    756\u001b[0m     index \u001b[38;5;241m=\u001b[39m \u001b[38;5;28mself\u001b[39m\u001b[38;5;241m.\u001b[39m_next_index()  \u001b[38;5;66;03m# may raise StopIteration\u001b[39;00m\n\u001b[0;32m--> 757\u001b[0m     data \u001b[38;5;241m=\u001b[39m \u001b[38;5;28;43mself\u001b[39;49m\u001b[38;5;241;43m.\u001b[39;49m\u001b[43m_dataset_fetcher\u001b[49m\u001b[38;5;241;43m.\u001b[39;49m\u001b[43mfetch\u001b[49m\u001b[43m(\u001b[49m\u001b[43mindex\u001b[49m\u001b[43m)\u001b[49m  \u001b[38;5;66;03m# may raise StopIteration\u001b[39;00m\n\u001b[1;32m    758\u001b[0m     \u001b[38;5;28;01mif\u001b[39;00m \u001b[38;5;28mself\u001b[39m\u001b[38;5;241m.\u001b[39m_pin_memory:\n\u001b[1;32m    759\u001b[0m         data \u001b[38;5;241m=\u001b[39m _utils\u001b[38;5;241m.\u001b[39mpin_memory\u001b[38;5;241m.\u001b[39mpin_memory(data, \u001b[38;5;28mself\u001b[39m\u001b[38;5;241m.\u001b[39m_pin_memory_device)\n",
      "File \u001b[0;32m~/workspace/uni_projects/cardbot/venv/lib/python3.12/site-packages/torch/utils/data/_utils/fetch.py:52\u001b[0m, in \u001b[0;36m_MapDatasetFetcher.fetch\u001b[0;34m(self, possibly_batched_index)\u001b[0m\n\u001b[1;32m     50\u001b[0m         data \u001b[38;5;241m=\u001b[39m \u001b[38;5;28mself\u001b[39m\u001b[38;5;241m.\u001b[39mdataset\u001b[38;5;241m.\u001b[39m__getitems__(possibly_batched_index)\n\u001b[1;32m     51\u001b[0m     \u001b[38;5;28;01melse\u001b[39;00m:\n\u001b[0;32m---> 52\u001b[0m         data \u001b[38;5;241m=\u001b[39m [\u001b[38;5;28;43mself\u001b[39;49m\u001b[38;5;241;43m.\u001b[39;49m\u001b[43mdataset\u001b[49m\u001b[43m[\u001b[49m\u001b[43midx\u001b[49m\u001b[43m]\u001b[49m \u001b[38;5;28;01mfor\u001b[39;00m idx \u001b[38;5;129;01min\u001b[39;00m possibly_batched_index]\n\u001b[1;32m     53\u001b[0m \u001b[38;5;28;01melse\u001b[39;00m:\n\u001b[1;32m     54\u001b[0m     data \u001b[38;5;241m=\u001b[39m \u001b[38;5;28mself\u001b[39m\u001b[38;5;241m.\u001b[39mdataset[possibly_batched_index]\n",
      "File \u001b[0;32m~/workspace/uni_projects/cardbot/models/Deepbot.py:437\u001b[0m, in \u001b[0;36mChunkDataset.__getitem__\u001b[0;34m(self, idx)\u001b[0m\n\u001b[1;32m    435\u001b[0m     f\u001b[38;5;241m.\u001b[39mseek(start_pos)\n\u001b[1;32m    436\u001b[0m     lines \u001b[38;5;241m=\u001b[39m [f\u001b[38;5;241m.\u001b[39mreadline()\u001b[38;5;241m.\u001b[39mstrip() \u001b[38;5;28;01mfor\u001b[39;00m _ \u001b[38;5;129;01min\u001b[39;00m \u001b[38;5;28mrange\u001b[39m(\u001b[38;5;28mself\u001b[39m\u001b[38;5;241m.\u001b[39mchunk_size)]\n\u001b[0;32m--> 437\u001b[0m features, labels \u001b[38;5;241m=\u001b[39m \u001b[38;5;28;43mself\u001b[39;49m\u001b[38;5;241;43m.\u001b[39;49m\u001b[43m_process_lines\u001b[49m\u001b[43m(\u001b[49m\u001b[43mlines\u001b[49m\u001b[43m)\u001b[49m\n\u001b[1;32m    438\u001b[0m \u001b[38;5;28;01mreturn\u001b[39;00m features, labels\n",
      "File \u001b[0;32m~/workspace/uni_projects/cardbot/models/Deepbot.py:453\u001b[0m, in \u001b[0;36mChunkDataset._process_lines\u001b[0;34m(self, lines)\u001b[0m\n\u001b[1;32m    451\u001b[0m \u001b[38;5;66;03m# Parse features\u001b[39;00m\n\u001b[1;32m    452\u001b[0m feature_part \u001b[38;5;241m=\u001b[39m parts[\u001b[38;5;241m0\u001b[39m]\u001b[38;5;241m.\u001b[39mstrip()\n\u001b[0;32m--> 453\u001b[0m feature_values \u001b[38;5;241m=\u001b[39m [\u001b[38;5;28;43mfloat\u001b[39;49m\u001b[43m(\u001b[49m\u001b[43mx\u001b[49m\u001b[43m)\u001b[49m \u001b[38;5;28;01mfor\u001b[39;00m x \u001b[38;5;129;01min\u001b[39;00m feature_part\u001b[38;5;241m.\u001b[39msplit(\u001b[38;5;124m\"\u001b[39m\u001b[38;5;124m,\u001b[39m\u001b[38;5;124m\"\u001b[39m)]\n\u001b[1;32m    455\u001b[0m \u001b[38;5;66;03m# Parse label\u001b[39;00m\n\u001b[1;32m    456\u001b[0m label_part \u001b[38;5;241m=\u001b[39m parts[\u001b[38;5;241m1\u001b[39m]\u001b[38;5;241m.\u001b[39mstrip()\n",
      "\u001b[0;31mKeyboardInterrupt\u001b[0m: "
     ]
    }
   ],
   "source": [
    "import sys\n",
    "sys.path.append(\"./models\")\n",
    "from Deepbot import train_DL_model, gpu_check\n",
    "\n",
    "# gpu_check()\n",
    "\n",
    "data_file = \"./ML_replay_memories/replay_memory.txt\"  # Replace with your data file path\n",
    "output_model_path = \"./models\"\n",
    "input_dim = 173\n",
    "hidden_dim = 64\n",
    "train_DL_model(data_file, output_model_path, input_dim, hidden_dim)"
   ]
  }
 ],
 "metadata": {
  "kernelspec": {
   "display_name": "venv",
   "language": "python",
   "name": "python3"
  },
  "language_info": {
   "codemirror_mode": {
    "name": "ipython",
    "version": 3
   },
   "file_extension": ".py",
   "mimetype": "text/x-python",
   "name": "python",
   "nbconvert_exporter": "python",
   "pygments_lexer": "ipython3",
   "version": "3.12.3"
  }
 },
 "nbformat": 4,
 "nbformat_minor": 2
}
